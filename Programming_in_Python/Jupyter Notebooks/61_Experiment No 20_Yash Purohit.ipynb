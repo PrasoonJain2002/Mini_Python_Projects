{
 "cells": [
  {
   "cell_type": "markdown",
   "id": "happy-jewel",
   "metadata": {},
   "source": [
    "# Experiment No 20"
   ]
  },
  {
   "cell_type": "markdown",
   "id": "maritime-professor",
   "metadata": {},
   "source": [
    "## Solving Matrices"
   ]
  },
  {
   "cell_type": "code",
   "execution_count": 14,
   "id": "standing-uncle",
   "metadata": {},
   "outputs": [
    {
     "name": "stdout",
     "output_type": "stream",
     "text": [
      "Determinant of 2x2 Square Matrix\n",
      "[4, 5]\n",
      "[3, 2]\n"
     ]
    },
    {
     "data": {
      "text/plain": [
       "-7.0"
      ]
     },
     "execution_count": 14,
     "metadata": {},
     "output_type": "execute_result"
    }
   ],
   "source": [
    "from scipy import linalg\n",
    "import numpy as np\n",
    "print(\"Determinant of 2x2 Matrix\")\n",
    "a=[4,5]\n",
    "b=[3,2]\n",
    "print(a,b,sep=\"\\n\")\n",
    "arr_2d = np.array([a,b])\n",
    "linalg.det( arr_2d )"
   ]
  },
  {
   "cell_type": "code",
   "execution_count": 16,
   "id": "bigger-basketball",
   "metadata": {},
   "outputs": [
    {
     "name": "stdout",
     "output_type": "stream",
     "text": [
      "Determinant of 3x3 Square Matrix\n",
      "[5, 3, 9]\n",
      "[0, 6, 4]\n",
      "[2, 8, 7]\n"
     ]
    },
    {
     "data": {
      "text/plain": [
       "-33.99999999999999"
      ]
     },
     "execution_count": 16,
     "metadata": {},
     "output_type": "execute_result"
    }
   ],
   "source": [
    "from scipy import linalg\n",
    "import numpy as np\n",
    "print(\"Determinant of 3x3 Matrix\")\n",
    "a=[5,3,9]\n",
    "b=[0,6,4]\n",
    "c=[2,8,7]\n",
    "print(a,b,c,sep=\"\\n\")\n",
    "arr_3d = np.array([a,b,c])\n",
    "linalg.det( arr_3d )"
   ]
  },
  {
   "cell_type": "code",
   "execution_count": 25,
   "id": "vocational-password",
   "metadata": {},
   "outputs": [
    {
     "name": "stdout",
     "output_type": "stream",
     "text": [
      "Eigen values & Eigen Vectors of 2x2 matrix\n",
      "[7, 0]\n",
      "[2, 9]\n",
      "\n",
      "Eigens Values:  [9.+0.j 7.+0.j]\n",
      "\n",
      "Eigens Vectors: \n",
      "[[ 0.          0.70710678]\n",
      " [ 1.         -0.70710678]]\n"
     ]
    }
   ],
   "source": [
    "from scipy import linalg\n",
    "import numpy as np\n",
    "print(\"Eigen values & Eigen Vectors of 2x2 matrix\")\n",
    "a=[7,0]\n",
    "b=[2,9]\n",
    "print(a,b,sep=\"\\n\")\n",
    "arr_2d = np.array([a,b])\n",
    "eigenValue, eigenVector = linalg.eig(arr_2d)\n",
    "print(\"\\nEigens Values: \", eigenValue)\n",
    "print(\"\\nEigens Vectors: \", eigenVector,sep=\"\\n\")"
   ]
  },
  {
   "cell_type": "code",
   "execution_count": 28,
   "id": "bigger-johnston",
   "metadata": {},
   "outputs": [
    {
     "name": "stdout",
     "output_type": "stream",
     "text": [
      "Eigen values & Eigen Vectors of 3x3 matrix\n",
      "Enter 3 values separated with space: 7 0 0\n",
      "Enter 3 values separated with space: 5 3 0\n",
      "Enter 3 values separated with space: 6 1 4\n",
      "[7, 0, 0]\n",
      "[5, 3, 0]\n",
      "[6, 1, 4]\n",
      "\n",
      "Eigens Values:  [4.+0.j 3.+0.j 7.+0.j]\n",
      "\n",
      "Eigens Vectors: \n",
      "[[ 0.          0.          0.34497574]\n",
      " [ 0.          0.70710678  0.43121968]\n",
      " [ 1.         -0.70710678  0.83369138]]\n"
     ]
    }
   ],
   "source": [
    "from scipy import linalg\n",
    "import numpy as np\n",
    "print(\"Eigen values & Eigen Vectors of 3x3 matrix\")\n",
    "a=list(map(int,input(\"Enter 3 values separated with space: \").split()))\n",
    "b=list(map(int,input(\"Enter 3 values separated with space: \").split()))\n",
    "c=list(map(int,input(\"Enter 3 values separated with space: \").split()))\n",
    "print(a,b,c,sep=\"\\n\")\n",
    "arr_3d = np.array([a,b,c])\n",
    "eigenValue, eigenVector = linalg.eig(arr_3d)\n",
    "print(\"\\nEigens Values: \", eigenValue)\n",
    "print(\"\\nEigens Vectors: \", eigenVector,sep=\"\\n\")"
   ]
  },
  {
   "cell_type": "markdown",
   "id": "settled-enclosure",
   "metadata": {},
   "source": [
    "## Solve Equations"
   ]
  },
  {
   "cell_type": "markdown",
   "id": "square-differential",
   "metadata": {},
   "source": [
    "### x + 3y + 5z = 10\n",
    "### 2x + 5y + z = 8\n",
    "### 2x + 3y + 8z = 3"
   ]
  },
  {
   "cell_type": "code",
   "execution_count": 10,
   "id": "sitting-referral",
   "metadata": {},
   "outputs": [
    {
     "name": "stdout",
     "output_type": "stream",
     "text": [
      "[[-9.28]\n",
      " [ 5.16]\n",
      " [ 0.76]]\n"
     ]
    }
   ],
   "source": [
    "from scipy import linalg\n",
    "import numpy as np\n",
    "equation = np.array([[1,3,5],[2,5,1],[2,3,8]])\n",
    "solution = np.array([[10],[8],[3]])\n",
    "roots = linalg.solve(equation,solution)\n",
    "print(roots)"
   ]
  }
 ],
 "metadata": {
  "kernelspec": {
   "display_name": "Python 3",
   "language": "python",
   "name": "python3"
  },
  "language_info": {
   "codemirror_mode": {
    "name": "ipython",
    "version": 3
   },
   "file_extension": ".py",
   "mimetype": "text/x-python",
   "name": "python",
   "nbconvert_exporter": "python",
   "pygments_lexer": "ipython3",
   "version": "3.9.1"
  }
 },
 "nbformat": 4,
 "nbformat_minor": 5
}
